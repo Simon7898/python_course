{
 "cells": [
  {
   "cell_type": "markdown",
   "metadata": {},
   "source": [
    "#### Функции кастования к типам данных"
   ]
  },
  {
   "cell_type": "code",
   "execution_count": 1,
   "metadata": {},
   "outputs": [],
   "source": [
    "##str, float, int, list, dict, bool"
   ]
  },
  {
   "cell_type": "markdown",
   "metadata": {},
   "source": [
    "#### Dict"
   ]
  },
  {
   "cell_type": "code",
   "execution_count": 6,
   "metadata": {},
   "outputs": [],
   "source": [
    "dct = {\n",
    "    'products': ['apple', 'milk', 'canabis'],\n",
    "    'prices': [2, 5, 20],\n",
    "}"
   ]
  },
  {
   "cell_type": "markdown",
   "metadata": {},
   "source": [
    "#### Tuple"
   ]
  },
  {
   "cell_type": "code",
   "execution_count": 10,
   "metadata": {},
   "outputs": [],
   "source": [
    "tpl = ('apple', 'milk', 'canabis')"
   ]
  },
  {
   "cell_type": "code",
   "execution_count": 11,
   "metadata": {},
   "outputs": [],
   "source": [
    "tpl[0] = 'sfsadf'"
   ]
  },
  {
   "cell_type": "markdown",
   "metadata": {},
   "source": [
    "#### Boolean"
   ]
  },
  {
   "cell_type": "code",
   "execution_count": 23,
   "metadata": {},
   "outputs": [],
   "source": [
    "#True, False"
   ]
  },
  {
   "cell_type": "markdown",
   "metadata": {},
   "source": [
    "#### Базовые операторы языка"
   ]
  },
  {
   "cell_type": "code",
   "execution_count": 40,
   "metadata": {},
   "outputs": [
    {
     "name": "stdout",
     "output_type": "stream",
     "text": [
      "0 app\n",
      "1 mil\n",
      "2 can\n"
     ]
    }
   ],
   "source": [
    "for i, product in enumerate(dct['products']):\n",
    "    print(i, product[:3])"
   ]
  },
  {
   "cell_type": "code",
   "execution_count": 39,
   "metadata": {},
   "outputs": [],
   "source": [
    "def concat(string_1, string_2, sep=' '):\n",
    "    ##result = string_1.replace('r', '')\n",
    "    ##...\n",
    "    return string_1 + sep + string_2"
   ]
  },
  {
   "cell_type": "code",
   "execution_count": 22,
   "metadata": {},
   "outputs": [],
   "source": [
    "def super_print():\n",
    "    pass"
   ]
  },
  {
   "cell_type": "code",
   "execution_count": null,
   "metadata": {},
   "outputs": [],
   "source": [
    "def prog():\n",
    "    string = \"\"\n",
    "    concat()\n",
    "    super_print()"
   ]
  },
  {
   "cell_type": "code",
   "execution_count": 21,
   "metadata": {},
   "outputs": [],
   "source": [
    "concat('asd', 'dfg')"
   ]
  },
  {
   "cell_type": "code",
   "execution_count": 37,
   "metadata": {},
   "outputs": [
    {
     "name": "stdout",
     "output_type": "stream",
     "text": [
      "dfgfdg*dfgfdg\n"
     ]
    }
   ],
   "source": [
    "string = 'sdfsd'\n",
    "string_1 = 'dfgfdg'\n",
    "if len(string) != 5:\n",
    "    print(concat(string, 'asd'))\n",
    "    print(concat(string, string_1, '-'))\n",
    "elif len(string_1) <= 6:\n",
    "    print(concat(string_1, string_1, '*'))\n",
    "else:\n",
    "    print(concat(string, string_1, '&'))"
   ]
  },
  {
   "cell_type": "markdown",
   "metadata": {},
   "source": [
    "#### Iteration throught dict"
   ]
  },
  {
   "cell_type": "code",
   "execution_count": 42,
   "metadata": {},
   "outputs": [
    {
     "name": "stdout",
     "output_type": "stream",
     "text": [
      "products ['apple', 'milk', 'canabis']\n",
      "prices [2, 5, 20]\n"
     ]
    }
   ],
   "source": [
    "for key, val in dct.items():\n",
    "    print(key, val)"
   ]
  },
  {
   "cell_type": "code",
   "execution_count": 45,
   "metadata": {},
   "outputs": [],
   "source": [
    "cliets_purchase = {\n",
    "    'client_id': [1, 2, 3, 4],\n",
    "    'good_id': [1, 2, 3],\n",
    "    'price': [25, 300, 2],\n",
    "    'quantity': [3, 2, 50],\n",
    "}"
   ]
  },
  {
   "cell_type": "code",
   "execution_count": 46,
   "metadata": {},
   "outputs": [],
   "source": [
    "def getPriceByGoodId(input_good_id):\n",
    "    for i, good_id in enumerate(cliets_purchase['good_id']):\n",
    "        if good_id == input_good_id:\n",
    "            return cliets_purchase['price'][i]\n",
    "    return 'No such good'"
   ]
  },
  {
   "cell_type": "code",
   "execution_count": null,
   "metadata": {},
   "outputs": [],
   "source": []
  },
  {
   "cell_type": "code",
   "execution_count": null,
   "metadata": {},
   "outputs": [],
   "source": []
  }
 ],
 "metadata": {
  "kernelspec": {
   "display_name": "Python 3",
   "language": "python",
   "name": "python3"
  },
  "language_info": {
   "codemirror_mode": {
    "name": "ipython",
    "version": 3
   },
   "file_extension": ".py",
   "mimetype": "text/x-python",
   "name": "python",
   "nbconvert_exporter": "python",
   "pygments_lexer": "ipython3",
   "version": "3.6.6"
  }
 },
 "nbformat": 4,
 "nbformat_minor": 2
}
